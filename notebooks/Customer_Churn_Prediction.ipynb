{
 "cells": [
  {
   "cell_type": "markdown",
   "metadata": {},
   "source": ["# Customer Churn Prediction using Machine Learning"]
  },
  {
   "cell_type": "code",
   "metadata": {},
   "source": [
    "import pandas as pd\n",
    "import seaborn as sns\n",
    "import matplotlib.pyplot as plt\n",
    "from scripts.data_preprocessing import load_and_preprocess_data\n",
    "from scripts.model_training import train_and_evaluate_models\n",
    "\n",
    "# Load data (update path as needed)\n",
    "data_path = 'data/Telco-Customer-Churn.csv'\n",
    "df, encoders = load_and_preprocess_data(data_path)\n",
    "\n",
    "df.head()"
   ]
  },
  {
   "cell_type": "code",
   "metadata": {},
   "source": [
    "# Exploratory Data Analysis\n",
    "sns.countplot(x='Churn', data=df)\n",
    "plt.title('Churn Distribution')\n",
    "plt.show()\n",
    "\n",
    "sns.heatmap(df.corr(), cmap='coolwarm')\n",
    "plt.title('Feature Correlation Heatmap')\n",
    "plt.show()"
   ]
  },
  {
   "cell_type": "code",
   "metadata": {},
   "source": [
    "# Train and evaluate models\n",
    "results = train_and_evaluate_models(df)\n",
    "for model_name, metrics in results.items():\n",
    "    print(f"{model_name}: Accuracy = {metrics['accuracy']:.2f}")"
   ]
  }
 ],
 "metadata": {
  "kernelspec": {
   "display_name": "Python 3",
   "language": "python",
   "name": "python3"
  },
  "language_info": {
   "name": "python",
   "version": "3.x"
  }
 },
 "nbformat": 4,
 "nbformat_minor": 2
}
